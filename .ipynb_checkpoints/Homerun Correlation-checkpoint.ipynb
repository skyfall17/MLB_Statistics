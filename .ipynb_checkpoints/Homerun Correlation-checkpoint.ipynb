{
 "cells": [
  {
   "cell_type": "code",
   "execution_count": 2,
   "id": "b9c5421c",
   "metadata": {
    "pycharm": {
     "name": "#%%\n"
    }
   },
   "outputs": [],
   "source": [
    "import pandas as pd\n",
    "import seaborn as sns\n",
    "import matplotlib.pyplot as plt\n",
    "import numpy as np"
   ]
  },
  {
   "cell_type": "code",
   "execution_count": 41,
   "id": "e03fe5e5",
   "metadata": {
    "scrolled": true
   },
   "outputs": [
    {
     "data": {
      "text/html": [
       "<div>\n",
       "<style scoped>\n",
       "    .dataframe tbody tr th:only-of-type {\n",
       "        vertical-align: middle;\n",
       "    }\n",
       "\n",
       "    .dataframe tbody tr th {\n",
       "        vertical-align: top;\n",
       "    }\n",
       "\n",
       "    .dataframe thead th {\n",
       "        text-align: right;\n",
       "    }\n",
       "</style>\n",
       "<table border=\"1\" class=\"dataframe\">\n",
       "  <thead>\n",
       "    <tr style=\"text-align: right;\">\n",
       "      <th></th>\n",
       "      <th>pitch_type</th>\n",
       "      <th>game_date</th>\n",
       "      <th>release_speed</th>\n",
       "      <th>release_pos_x</th>\n",
       "      <th>release_pos_z</th>\n",
       "      <th>player_name</th>\n",
       "    </tr>\n",
       "  </thead>\n",
       "  <tbody>\n",
       "    <tr>\n",
       "      <th>0</th>\n",
       "      <td>FF</td>\n",
       "      <td>2022-10-05</td>\n",
       "      <td>89.2</td>\n",
       "      <td>2.43</td>\n",
       "      <td>5.40</td>\n",
       "      <td>Vázquez, Christian</td>\n",
       "    </tr>\n",
       "    <tr>\n",
       "      <th>1</th>\n",
       "      <td>SL</td>\n",
       "      <td>2022-10-05</td>\n",
       "      <td>91.1</td>\n",
       "      <td>-1.81</td>\n",
       "      <td>6.24</td>\n",
       "      <td>Moreno, Gabriel</td>\n",
       "    </tr>\n",
       "    <tr>\n",
       "      <th>2</th>\n",
       "      <td>SI</td>\n",
       "      <td>2022-10-05</td>\n",
       "      <td>90.7</td>\n",
       "      <td>2.03</td>\n",
       "      <td>5.69</td>\n",
       "      <td>Torrens, Luis</td>\n",
       "    </tr>\n",
       "    <tr>\n",
       "      <th>3</th>\n",
       "      <td>FF</td>\n",
       "      <td>2022-10-05</td>\n",
       "      <td>93.6</td>\n",
       "      <td>-1.58</td>\n",
       "      <td>6.33</td>\n",
       "      <td>Choi, Ji-Man</td>\n",
       "    </tr>\n",
       "    <tr>\n",
       "      <th>4</th>\n",
       "      <td>CU</td>\n",
       "      <td>2022-10-05</td>\n",
       "      <td>78.5</td>\n",
       "      <td>-1.77</td>\n",
       "      <td>5.39</td>\n",
       "      <td>McCann, James</td>\n",
       "    </tr>\n",
       "    <tr>\n",
       "      <th>...</th>\n",
       "      <td>...</td>\n",
       "      <td>...</td>\n",
       "      <td>...</td>\n",
       "      <td>...</td>\n",
       "      <td>...</td>\n",
       "      <td>...</td>\n",
       "    </tr>\n",
       "    <tr>\n",
       "      <th>20234</th>\n",
       "      <td>NaN</td>\n",
       "      <td>2019-03-20</td>\n",
       "      <td>NaN</td>\n",
       "      <td>NaN</td>\n",
       "      <td>NaN</td>\n",
       "      <td>Santana, Domingo</td>\n",
       "    </tr>\n",
       "    <tr>\n",
       "      <th>20235</th>\n",
       "      <td>NaN</td>\n",
       "      <td>2019-03-20</td>\n",
       "      <td>NaN</td>\n",
       "      <td>NaN</td>\n",
       "      <td>NaN</td>\n",
       "      <td>Davis, Khris</td>\n",
       "    </tr>\n",
       "    <tr>\n",
       "      <th>20236</th>\n",
       "      <td>NaN</td>\n",
       "      <td>2019-03-20</td>\n",
       "      <td>NaN</td>\n",
       "      <td>NaN</td>\n",
       "      <td>NaN</td>\n",
       "      <td>Chapman, Matt</td>\n",
       "    </tr>\n",
       "    <tr>\n",
       "      <th>20237</th>\n",
       "      <td>NaN</td>\n",
       "      <td>2019-03-20</td>\n",
       "      <td>NaN</td>\n",
       "      <td>NaN</td>\n",
       "      <td>NaN</td>\n",
       "      <td>Beckham, Tim</td>\n",
       "    </tr>\n",
       "    <tr>\n",
       "      <th>20238</th>\n",
       "      <td>NaN</td>\n",
       "      <td>2019-03-20</td>\n",
       "      <td>NaN</td>\n",
       "      <td>NaN</td>\n",
       "      <td>NaN</td>\n",
       "      <td>Piscotty, Stephen</td>\n",
       "    </tr>\n",
       "  </tbody>\n",
       "</table>\n",
       "<p>20239 rows × 6 columns</p>\n",
       "</div>"
      ],
      "text/plain": [
       "      pitch_type   game_date  release_speed  release_pos_x  release_pos_z  \\\n",
       "0             FF  2022-10-05           89.2           2.43           5.40   \n",
       "1             SL  2022-10-05           91.1          -1.81           6.24   \n",
       "2             SI  2022-10-05           90.7           2.03           5.69   \n",
       "3             FF  2022-10-05           93.6          -1.58           6.33   \n",
       "4             CU  2022-10-05           78.5          -1.77           5.39   \n",
       "...          ...         ...            ...            ...            ...   \n",
       "20234        NaN  2019-03-20            NaN            NaN            NaN   \n",
       "20235        NaN  2019-03-20            NaN            NaN            NaN   \n",
       "20236        NaN  2019-03-20            NaN            NaN            NaN   \n",
       "20237        NaN  2019-03-20            NaN            NaN            NaN   \n",
       "20238        NaN  2019-03-20            NaN            NaN            NaN   \n",
       "\n",
       "              player_name  \n",
       "0      Vázquez, Christian  \n",
       "1         Moreno, Gabriel  \n",
       "2           Torrens, Luis  \n",
       "3            Choi, Ji-Man  \n",
       "4           McCann, James  \n",
       "...                   ...  \n",
       "20234    Santana, Domingo  \n",
       "20235        Davis, Khris  \n",
       "20236       Chapman, Matt  \n",
       "20237        Beckham, Tim  \n",
       "20238   Piscotty, Stephen  \n",
       "\n",
       "[20239 rows x 6 columns]"
      ]
     },
     "execution_count": 41,
     "metadata": {},
     "output_type": "execute_result"
    }
   ],
   "source": [
    "#The baseballsavant website would not allow for multiple seasons to be downloaded at one with a max of two\n",
    "#All of this data is pre-filtered into home run events in order to make the dataset managable and not too large\n",
    "df = pd.read_csv('Home_Run_Data.csv')\n",
    "mergeDF = pd.read_csv('MergedHR.csv')\n",
    "\n",
    "#Built-in function which allows for the data in each csv to be appended onto one another, increasing the amount of data\n",
    "ans = pd.concat([df,mergeDF], ignore_index = True)\n",
    "ans.dropna(axis = 1, how = 'all', inplace = True)\n",
    "ans.head(10)"
   ]
  },
  {
   "cell_type": "code",
   "execution_count": 69,
   "id": "9905eec3",
   "metadata": {},
   "outputs": [
    {
     "data": {
      "text/plain": [
       "Index(['pitch_type', 'game_date', 'release_speed', 'release_pos_x',\n",
       "       'release_pos_z', 'player_name', 'batter', 'pitcher', 'events',\n",
       "       'description', 'zone', 'des', 'game_type', 'stand', 'p_throws',\n",
       "       'home_team', 'away_team', 'type', 'hit_location', 'bb_type', 'balls',\n",
       "       'strikes', 'game_year', 'pfx_x', 'pfx_z', 'plate_x', 'plate_z', 'on_3b',\n",
       "       'on_2b', 'on_1b', 'outs_when_up', 'inning', 'inning_topbot', 'hc_x',\n",
       "       'hc_y', 'fielder_2', 'vx0', 'vy0', 'vz0', 'ax', 'ay', 'az', 'sz_top',\n",
       "       'sz_bot', 'hit_distance_sc', 'launch_speed', 'launch_angle',\n",
       "       'effective_speed', 'release_spin_rate', 'release_extension', 'game_pk',\n",
       "       'pitcher.1', 'fielder_2.1', 'fielder_3', 'fielder_4', 'fielder_5',\n",
       "       'fielder_6', 'fielder_7', 'fielder_8', 'fielder_9', 'release_pos_y',\n",
       "       'estimated_ba_using_speedangle', 'estimated_woba_using_speedangle',\n",
       "       'woba_value', 'woba_denom', 'babip_value', 'iso_value',\n",
       "       'launch_speed_angle', 'at_bat_number', 'pitch_number', 'pitch_name',\n",
       "       'home_score', 'away_score', 'bat_score', 'fld_score', 'post_away_score',\n",
       "       'post_home_score', 'post_bat_score', 'post_fld_score',\n",
       "       'if_fielding_alignment', 'of_fielding_alignment', 'spin_axis',\n",
       "       'delta_home_win_exp', 'delta_run_exp'],\n",
       "      dtype='object')"
      ]
     },
     "execution_count": 69,
     "metadata": {},
     "output_type": "execute_result"
    }
   ],
   "source": [
    "ans.keys()"
   ]
  },
  {
   "cell_type": "code",
   "execution_count": 68,
   "id": "d72dc914",
   "metadata": {},
   "outputs": [
    {
     "data": {
      "image/png": "[encoded data removed]",
      "text/plain": [
       "<Figure size 432x288 with 2 Axes>"
      ]
     },
     "metadata": {
      "needs_background": "light"
     },
     "output_type": "display_data"
    },
    {
     "data": {
      "text/plain": [
       "<Figure size 1800x720 with 0 Axes>"
      ]
     },
     "metadata": {},
     "output_type": "display_data"
    }
   ],
   "source": [
    "#Before we start, we want to see if there is a correlation between any variables\n",
    "#Initially, there were too many variables to make the corr matrix readable, so we have to minimize \n",
    "corrMatrix = round(ans.corr(), 2)\n",
    "corrMatrix = corrMatrix.loc['release_speed':'plate_x']\n",
    "corrMatrix = corrMatrix[corrMatrix.columns[0:8]]\n",
    "sns.heatmap(corrMatrix, annot = True, vmin = -1, vmax = 1, cmap ='Blues')\n",
    "plt.figure(figsize = (25,10))\n",
    "plt.show()"
   ]
  },
  {
   "cell_type": "code",
   "execution_count": 17,
   "id": "45e40346",
   "metadata": {},
   "outputs": [
    {
     "data": {
      "image/png": "[encoded data removed]",
      "text/plain": [
       "<Figure size 432x288 with 1 Axes>"
      ]
     },
     "metadata": {
      "needs_background": "light"
     },
     "output_type": "display_data"
    }
   ],
   "source": [
    "#Create a distribution plot of the amount of homeruns in a specific zone\n",
    "sns.countplot(data = ans, x = 'zone', palette = 'mako')\n",
    "plt.ylabel('Home Runs Per Zone')\n",
    "plt.grid()\n",
    "#As we can see below, the greatest number of homeruns occur in zone 5 which is in the middle of the strike zone"
   ]
  },
  {
   "cell_type": "code",
   "execution_count": 80,
   "id": "881a4f1a",
   "metadata": {},
   "outputs": [
    {
     "data": {
      "text/plain": [
       "<AxesSubplot:xlabel='zone', ylabel='count'>"
      ]
     },
     "execution_count": 80,
     "metadata": {},
     "output_type": "execute_result"
    },
    {
     "data": {
      "image/png": "[encoded data removed]",
      "text/plain": [
       "<Figure size 1800x720 with 1 Axes>"
      ]
     },
     "metadata": {
      "needs_background": "light"
     },
     "output_type": "display_data"
    }
   ],
   "source": [
    "#Figure was too small and data was bunched up initially, so I increased the length and width of the plot\n",
    "plt.figure(figsize = (25,10))\n",
    "sns.countplot(data = ans, x = 'zone', palette = 'icefire', hue = 'pitch_type')\n",
    "#With this graph we are able to determine the number of homeruns in each zone, corresponding to the specific type of pitch"
   ]
  },
  {
   "cell_type": "code",
   "execution_count": 170,
   "id": "817fbf90",
   "metadata": {},
   "outputs": [],
   "source": [
    "def comparePlayers(df, playerName1, playerName2):\n",
    "    \n",
    "    #Creates two plots, sharing the same margin to give the user a comparison of baseball players\n",
    "    fig, axes = plt.subplots(1, 2, figsize = (10,5), sharey = True)\n",
    "    plt.subplots_adjust(hspace = None)\n",
    "\n",
    "    #Removes the left spine of the plot as a lot of the data was on top of eachother\n",
    "    sns.despine(left = True)\n",
    "    \n",
    "    #Distribution plot to break down the amount of homeruns in a specific zone\n",
    "    sns.countplot(data = df[df['player_name'] == playerName1], x = 'zone', palette = 'icefire', ax = axes[0])\n",
    "    axes[0].set_ylabel('Home Runs Per Zone')\n",
    "    axes[0].set_title(f\"Distribution of Home Runs for {playerName1}\")\n",
    "    \n",
    "    #Distribution plot of the second player to show the amount of homeruns in a zone\n",
    "    sns.countplot(data = df[df['player_name'] == playerName2], x = 'zone', palette = 'icefire', ax = axes[1])\n",
    "    axes[1].set_ylabel(\"\")\n",
    "    axes[1].set_title(f\"Distribution of Home Runs for {playerName2}\")\n",
    "    \n",
    "    axes[0].grid()\n",
    "    axes[1].grid()\n",
    "\n",
    "    plt.show()\n",
    "    "
   ]
  },
  {
   "cell_type": "code",
   "execution_count": 171,
   "id": "fffd0916",
   "metadata": {},
   "outputs": [
    {
     "data": {
      "image/png": "[encoded data removed]",
      "text/plain": [
       "<Figure size 720x360 with 2 Axes>"
      ]
     },
     "metadata": {
      "needs_background": "light"
     },
     "output_type": "display_data"
    }
   ],
   "source": [
    "comparePlayers(ans,'Judge, Aaron','Harper, Bryce')"
   ]
  },
  {
   "cell_type": "code",
   "execution_count": 193,
   "id": "8859534c",
   "metadata": {},
   "outputs": [
    {
     "data": {
      "text/html": [
       "<div>\n",
       "<style scoped>\n",
       "    .dataframe tbody tr th:only-of-type {\n",
       "        vertical-align: middle;\n",
       "    }\n",
       "\n",
       "    .dataframe tbody tr th {\n",
       "        vertical-align: top;\n",
       "    }\n",
       "\n",
       "    .dataframe thead th {\n",
       "        text-align: right;\n",
       "    }\n",
       "</style>\n",
       "<table border=\"1\" class=\"dataframe\">\n",
       "  <thead>\n",
       "    <tr style=\"text-align: right;\">\n",
       "      <th></th>\n",
       "      <th>zone</th>\n",
       "      <th>player_name</th>\n",
       "      <th>Home Runs Per Zone</th>\n",
       "    </tr>\n",
       "  </thead>\n",
       "  <tbody>\n",
       "    <tr>\n",
       "      <th>167</th>\n",
       "      <td>1.0</td>\n",
       "      <td>Harper, Bryce</td>\n",
       "      <td>3</td>\n",
       "    </tr>\n",
       "    <tr>\n",
       "      <th>641</th>\n",
       "      <td>2.0</td>\n",
       "      <td>Harper, Bryce</td>\n",
       "      <td>8</td>\n",
       "    </tr>\n",
       "    <tr>\n",
       "      <th>1132</th>\n",
       "      <td>3.0</td>\n",
       "      <td>Harper, Bryce</td>\n",
       "      <td>7</td>\n",
       "    </tr>\n",
       "    <tr>\n",
       "      <th>1606</th>\n",
       "      <td>4.0</td>\n",
       "      <td>Harper, Bryce</td>\n",
       "      <td>11</td>\n",
       "    </tr>\n",
       "    <tr>\n",
       "      <th>2223</th>\n",
       "      <td>5.0</td>\n",
       "      <td>Harper, Bryce</td>\n",
       "      <td>23</td>\n",
       "    </tr>\n",
       "    <tr>\n",
       "      <th>2867</th>\n",
       "      <td>6.0</td>\n",
       "      <td>Harper, Bryce</td>\n",
       "      <td>13</td>\n",
       "    </tr>\n",
       "    <tr>\n",
       "      <th>3375</th>\n",
       "      <td>7.0</td>\n",
       "      <td>Harper, Bryce</td>\n",
       "      <td>4</td>\n",
       "    </tr>\n",
       "    <tr>\n",
       "      <th>3841</th>\n",
       "      <td>8.0</td>\n",
       "      <td>Harper, Bryce</td>\n",
       "      <td>16</td>\n",
       "    </tr>\n",
       "    <tr>\n",
       "      <th>4343</th>\n",
       "      <td>9.0</td>\n",
       "      <td>Harper, Bryce</td>\n",
       "      <td>9</td>\n",
       "    </tr>\n",
       "    <tr>\n",
       "      <th>4699</th>\n",
       "      <td>11.0</td>\n",
       "      <td>Harper, Bryce</td>\n",
       "      <td>3</td>\n",
       "    </tr>\n",
       "    <tr>\n",
       "      <th>4955</th>\n",
       "      <td>12.0</td>\n",
       "      <td>Harper, Bryce</td>\n",
       "      <td>1</td>\n",
       "    </tr>\n",
       "    <tr>\n",
       "      <th>5407</th>\n",
       "      <td>14.0</td>\n",
       "      <td>Harper, Bryce</td>\n",
       "      <td>3</td>\n",
       "    </tr>\n",
       "  </tbody>\n",
       "</table>\n",
       "</div>"
      ],
      "text/plain": [
       "      zone    player_name  Home Runs Per Zone\n",
       "167    1.0  Harper, Bryce                   3\n",
       "641    2.0  Harper, Bryce                   8\n",
       "1132   3.0  Harper, Bryce                   7\n",
       "1606   4.0  Harper, Bryce                  11\n",
       "2223   5.0  Harper, Bryce                  23\n",
       "2867   6.0  Harper, Bryce                  13\n",
       "3375   7.0  Harper, Bryce                   4\n",
       "3841   8.0  Harper, Bryce                  16\n",
       "4343   9.0  Harper, Bryce                   9\n",
       "4699  11.0  Harper, Bryce                   3\n",
       "4955  12.0  Harper, Bryce                   1\n",
       "5407  14.0  Harper, Bryce                   3"
      ]
     },
     "execution_count": 193,
     "metadata": {},
     "output_type": "execute_result"
    }
   ],
   "source": [
    "def homeRunsbyZone(df, playerName):\n",
    "    '''\n",
    "    Creates a dataframe, searching for the specific player name in the original data frame. For each zone and player\n",
    "    in the dataframe, it will count the number of home runs. It will then filter by a specific player to return the final dataset\n",
    "    Inputs: \n",
    "    df (pandas DataFrame): will subset the data to return a grouped dataframe given certain factors\n",
    "    playerName (string): searches for a specific player within the dataframe\n",
    "    '''\n",
    "    \n",
    "    #Calculates the number of homeruns per zone per player\n",
    "    df2 = pd.DataFrame(ans.groupby(['zone','player_name'])['events'].agg('count'))\n",
    "    #Renames the resulting column instead of having a generic 'count'\n",
    "    df2.rename({'events':'Home Runs Per Zone'}, axis = 1, inplace = True)\n",
    "    #Makes accessing individual elements easier\n",
    "    df2.reset_index(inplace=True)\n",
    "    #Filters by name to only get the data relevant to the player searched\n",
    "    df2 = df2[(df2['player_name'] == playerName)]\n",
    "    return df2\n",
    "\n",
    "test = homeRunsbyZone(ans, 'Harper, Bryce')\n"
   ]
  },
  {
   "cell_type": "code",
   "execution_count": 177,
   "id": "8bf2d9d0",
   "metadata": {},
   "outputs": [],
   "source": [
    "def plotHeatMap(df, playerName):\n",
    "    \n",
    "    if df['player_name'].str.contains(playerName).any():\n",
    "        df = df[(df['player_name'].str.contains(playerName)) & (df['zone'].between(0,9))].reset_index().copy()\n",
    "        playerName = df['player_name'].iloc[0]\n",
    "    else:\n",
    "        print(\"Please enter a valid player\")\n",
    "        return\n",
    "\n",
    "    def x_coord(col):\n",
    "        if col['zone'] in [1,4,7]:\n",
    "            return 1\n",
    "        elif col['zone'] in [2,5,8]:\n",
    "            return 2\n",
    "        elif col['zone'] in [3,6,9]:\n",
    "            return 3\n",
    "\n",
    "    def y_coord(row):\n",
    "        if row['zone'] in [1,2,3]:\n",
    "            return 3\n",
    "        elif row['zone'] in [4,5,6]:\n",
    "            return 2\n",
    "        elif row['zone'] in [7,8,9]:\n",
    "            return 1\n",
    "    \n",
    "    \n",
    "    df['xcoord'] = df.apply(x_coord, axis = 1)\n",
    "    df['ycoord'] = df.apply(y_coord, axis = 1)\n",
    "\n",
    "    ax = sns.histplot(data = df, x  = 'xcoord', y = 'ycoord', discrete = True, cmap ='Reds',cbar = True)\n",
    "    sns.despine(left=True, bottom = True)\n",
    "    ax.set(yticks=[], xticks = [])\n",
    "    ax.set_xlabel('Zone')\n",
    "    ax.set_ylabel(\"\")\n",
    "    ax.set_title(f\"Home Run Distribution for {playerName}\")\n",
    "    count = 0\n",
    "    \n",
    "    for y in range(1, 4):\n",
    "        for x in range(1,4):\n",
    "            count += 1\n",
    "            plt.text(x, y, count, horizontalalignment='center', size='medium', color='grey', weight='heavy')\n",
    "    plt.show()\n",
    "\n",
    "    "
   ]
  },
  {
   "cell_type": "code",
   "execution_count": 197,
   "id": "9ddff7d3",
   "metadata": {},
   "outputs": [
    {
     "data": {
      "image/png": "[encoded data removed]",
      "text/plain": [
       "<Figure size 432x288 with 2 Axes>"
      ]
     },
     "metadata": {
      "needs_background": "light"
     },
     "output_type": "display_data"
    }
   ],
   "source": [
    "plotHeatMap(ans, 'Shohei')"
   ]
  },
  {
   "cell_type": "code",
   "execution_count": 166,
   "id": "1b2b0a1a",
   "metadata": {},
   "outputs": [],
   "source": [
    "#How does a player's launch speed and distance change throughout the seasons (2019-2022)\n",
    "def launchOverTimeTop(df, top):\n",
    "    top10Hitters = pd.DataFrame(df.groupby('player_name')['events'].agg('count'))\n",
    "    top10Hitters.rename({'events':'Home Runs'}, axis = 1, inplace = True)\n",
    "    top10Hitters.reset_index(inplace=True)\n",
    "    top10Hitters = top10Hitters.sort_values(by = 'Home Runs', ascending = False).head(top)\n",
    "    \n",
    "    fig, axes = plt.subplots(2, top//2, figsize = (10,5), sharey = True)\n",
    "    \n",
    "    top10Hitters['player_name'] in df['player_name']\n",
    "\n",
    "    for i in range(top):\n",
    "        sns.lineplot(data = top10Hitters, x = 'game_date', y = 'launch_speed', hue = 'game_year', ax = axes[i])\n",
    "    ax.set(xticks = [])\n",
    "    plt.show()"
   ]
  },
  {
   "cell_type": "code",
   "execution_count": 174,
   "id": "9effb42d",
   "metadata": {},
   "outputs": [
    {
     "ename": "TypeError",
     "evalue": "unhashable type: 'numpy.ndarray'",
     "output_type": "error",
     "traceback": [
      "\u001b[1;31m---------------------------------------------------------------------------\u001b[0m",
      "\u001b[1;31mTypeError\u001b[0m                                 Traceback (most recent call last)",
      "Input \u001b[1;32mIn [174]\u001b[0m, in \u001b[0;36m<cell line: 5>\u001b[1;34m()\u001b[0m\n\u001b[0;32m      3\u001b[0m top10Hitters\u001b[38;5;241m.\u001b[39mreset_index(inplace\u001b[38;5;241m=\u001b[39m\u001b[38;5;28;01mTrue\u001b[39;00m)\n\u001b[0;32m      4\u001b[0m top10Hitters \u001b[38;5;241m=\u001b[39m top10Hitters\u001b[38;5;241m.\u001b[39msort_values(by \u001b[38;5;241m=\u001b[39m \u001b[38;5;124m'\u001b[39m\u001b[38;5;124mHome Runs\u001b[39m\u001b[38;5;124m'\u001b[39m, ascending \u001b[38;5;241m=\u001b[39m \u001b[38;5;28;01mFalse\u001b[39;00m)\u001b[38;5;241m.\u001b[39mhead(\u001b[38;5;241m10\u001b[39m)\n\u001b[1;32m----> 5\u001b[0m \u001b[43mtop10Hitters\u001b[49m\u001b[43m[\u001b[49m\u001b[38;5;124;43m'\u001b[39;49m\u001b[38;5;124;43mplayer_name\u001b[39;49m\u001b[38;5;124;43m'\u001b[39;49m\u001b[43m]\u001b[49m\u001b[38;5;241;43m.\u001b[39;49m\u001b[43mvalues\u001b[49m\u001b[43m \u001b[49m\u001b[38;5;129;43;01min\u001b[39;49;00m\u001b[43m \u001b[49m\u001b[43mdf\u001b[49m\u001b[43m[\u001b[49m\u001b[38;5;124;43m'\u001b[39;49m\u001b[38;5;124;43mplayer_name\u001b[39;49m\u001b[38;5;124;43m'\u001b[39;49m\u001b[43m]\u001b[49m\n",
      "File \u001b[1;32m~\\anaconda3\\lib\\site-packages\\pandas\\core\\generic.py:1994\u001b[0m, in \u001b[0;36mNDFrame.__contains__\u001b[1;34m(self, key)\u001b[0m\n\u001b[0;32m   1991\u001b[0m \u001b[38;5;129m@final\u001b[39m\n\u001b[0;32m   1992\u001b[0m \u001b[38;5;28;01mdef\u001b[39;00m \u001b[38;5;21m__contains__\u001b[39m(\u001b[38;5;28mself\u001b[39m, key) \u001b[38;5;241m-\u001b[39m\u001b[38;5;241m>\u001b[39m bool_t:\n\u001b[0;32m   1993\u001b[0m     \u001b[38;5;124;03m\"\"\"True if the key is in the info axis\"\"\"\u001b[39;00m\n\u001b[1;32m-> 1994\u001b[0m     \u001b[38;5;28;01mreturn\u001b[39;00m \u001b[43mkey\u001b[49m\u001b[43m \u001b[49m\u001b[38;5;129;43;01min\u001b[39;49;00m\u001b[43m \u001b[49m\u001b[38;5;28;43mself\u001b[39;49m\u001b[38;5;241;43m.\u001b[39;49m\u001b[43m_info_axis\u001b[49m\n",
      "File \u001b[1;32m~\\anaconda3\\lib\\site-packages\\pandas\\core\\indexes\\range.py:365\u001b[0m, in \u001b[0;36mRangeIndex.__contains__\u001b[1;34m(self, key)\u001b[0m\n\u001b[0;32m    364\u001b[0m \u001b[38;5;28;01mdef\u001b[39;00m \u001b[38;5;21m__contains__\u001b[39m(\u001b[38;5;28mself\u001b[39m, key: Any) \u001b[38;5;241m-\u001b[39m\u001b[38;5;241m>\u001b[39m \u001b[38;5;28mbool\u001b[39m:\n\u001b[1;32m--> 365\u001b[0m     \u001b[38;5;28;43mhash\u001b[39;49m\u001b[43m(\u001b[49m\u001b[43mkey\u001b[49m\u001b[43m)\u001b[49m\n\u001b[0;32m    366\u001b[0m     \u001b[38;5;28;01mtry\u001b[39;00m:\n\u001b[0;32m    367\u001b[0m         key \u001b[38;5;241m=\u001b[39m ensure_python_int(key)\n",
      "\u001b[1;31mTypeError\u001b[0m: unhashable type: 'numpy.ndarray'"
     ]
    }
   ],
   "source": [
    "top10Hitters = pd.DataFrame(df.groupby('player_name')['events'].agg('count'))\n",
    "top10Hitters.rename({'events':'Home Runs'}, axis = 1, inplace = True)\n",
    "top10Hitters.reset_index(inplace=True)\n",
    "top10Hitters = top10Hitters.sort_values(by = 'Home Runs', ascending = False).head(10)\n",
    "top10Hitters['player_name'].values in df['player_name']\n"
   ]
  },
  {
   "cell_type": "code",
   "execution_count": null,
   "id": "4f8ac4cf",
   "metadata": {},
   "outputs": [],
   "source": []
  }
 ],
 "metadata": {
  "kernelspec": {
   "display_name": "Python 3 (ipykernel)",
   "language": "python",
   "name": "python3"
  },
  "language_info": {
   "codemirror_mode": {
    "name": "ipython",
    "version": 3
   },
   "file_extension": ".py",
   "mimetype": "text/x-python",
   "name": "python",
   "nbconvert_exporter": "python",
   "pygments_lexer": "ipython3",
   "version": "3.9.12"
  }
 },
 "nbformat": 4,
 "nbformat_minor": 5
}
